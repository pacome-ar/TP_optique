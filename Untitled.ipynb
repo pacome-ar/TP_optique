{
 "cells": [
  {
   "cell_type": "code",
   "execution_count": 11,
   "metadata": {},
   "outputs": [
    {
     "name": "stdout",
     "output_type": "stream",
     "text": [
      "Populating the interactive namespace from numpy and matplotlib\n"
     ]
    },
    {
     "name": "stderr",
     "output_type": "stream",
     "text": [
      "/home/pacome/anaconda3/lib/python3.6/site-packages/IPython/core/magics/pylab.py:160: UserWarning: pylab import has clobbered these variables: ['style']\n",
      "`%matplotlib` prevents importing * from pylab and numpy\n",
      "  \"\\n`%matplotlib` prevents importing * from pylab and numpy\"\n"
     ]
    }
   ],
   "source": [
    "import ipywidgets\n",
    "from ipywidgets import interact\n",
    "%pylab inline\n",
    "from IPython.display import display\n",
    "\n",
    "import numpy as np\n",
    "import matplotlib.pyplot as plt\n",
    "from matplotlib.widgets import Slider, Button\n",
    "import proper"
   ]
  },
  {
   "cell_type": "code",
   "execution_count": null,
   "metadata": {},
   "outputs": [],
   "source": []
  },
  {
   "cell_type": "code",
   "execution_count": 12,
   "metadata": {},
   "outputs": [
    {
     "name": "stdout",
     "output_type": "stream",
     "text": [
      "Propagating\n",
      "Applying lens\n",
      "Propagating\n",
      "Applying lens\n",
      "Propagating\n",
      "Propagating\n",
      "Applying lens\n",
      "Propagating\n",
      "Applying lens\n",
      "Propagating\n"
     ]
    }
   ],
   "source": [
    "#!/usr/bin/env python3\n",
    "# -*- coding: utf-8 -*-\n",
    "\"\"\"\n",
    "Created on Fri Mar 20 17:32:23 2020\n",
    "\n",
    "@author: carlotal\n",
    "\"\"\"\n",
    "\n",
    "import numpy as np\n",
    "import matplotlib.pyplot as plt\n",
    "from matplotlib.widgets import Slider, Button\n",
    "import proper\n",
    "\n",
    "def objet_def(D,D_ratio,N):\n",
    "    x = np.linspace(-D/2,D/2,N,endpoint=False) + D/(2.0*N)\n",
    "    X,Y = np.meshgrid(x,x,sparse = False)\n",
    "    R = np.sqrt(X**2 + Y**2) \n",
    "    x0 = 0.3*D*D_ratio\n",
    "    y0 = 0.1*D*D_ratio\n",
    "    objet = (R<(D*D_ratio/2))*(1-(np.sqrt((X-x0)**2+(Y-y0)**2)<D*D_ratio/2/50))\n",
    "    return objet\n",
    "\n",
    "#erreur_position = 2*1e-3 #erreur de positionnement des optiques, en mètres (FWHM d'une gausienne centrée sur la valeur vraie)\n",
    "lbd = 0.55*1e-6 #longueur d'onde (m)\n",
    "\n",
    "#focal length of lenses\n",
    "foc_library = np.array([-100,50,100,200,250,500])\n",
    "foc_library_rand = np.zeros(len(foc_library))\n",
    "for k in range(len(foc_library)):\n",
    "    foc_library_rand[k] = np.random.normal(foc_library[k], np.abs(foc_library[k]*20/100/2.355)) #students will need to measure the focal length!\n",
    "#lens_rand_index = np.random.permutation(len(foc_library))\n",
    "#foc_library_rand = foc_library[lens_rand_index] #randomization of the lens library: \n",
    "    \n",
    "# Parameters (distances in mm)\n",
    "N_simu = 500\n",
    "object_size_0 = 2\n",
    "D_ratio = 0.8\n",
    "window_size = object_size_0/D_ratio\n",
    "\n",
    "#object_size_0 += np.random.normal(0,1e-3/2.355)\n",
    "\n",
    "number_L1_0 = 3\n",
    "number_L2_0 = 3\n",
    "number_L3_0 = 3\n",
    "distance_object_L1_0 = 220\n",
    "distance_object_L3_0 = 200\n",
    "distance_L3_L3_0 = 100\n",
    "distance_L1_L2_0 = 300\n",
    "distance_L2_screen_0 = 200\n",
    "\n",
    "#delta focus (in mm)\n",
    "delta_focus = 1\n",
    "\n",
    "#initialization of function\n",
    "objet = objet_def(window_size,D_ratio,N_simu)\n",
    "\n",
    "onde_1 = proper.prop_begin(window_size*1e-3, lbd, N_simu, D_ratio)\n",
    "proper.prop_multiply(onde_1, objet)\n",
    "proper.prop_define_entrance(onde_1)\n",
    "A_object_1 = np.abs(proper.prop_get_amplitude(onde_1))**2\n",
    "A_object_1 /= np.max(A_object_1)\n",
    "L_object_1 = D_ratio*N_simu*proper.prop_get_sampling(onde_1)*1e3\n",
    "proper.prop_propagate(onde_1, distance_object_L1_0*1e-3)\n",
    "proper.prop_lens(onde_1,foc_library_rand[number_L1_0]*1e-3)\n",
    "proper.prop_propagate(onde_1, distance_L1_L2_0*1e-3)\n",
    "proper.prop_lens(onde_1, foc_library_rand[number_L2_0]*1e-3)\n",
    "proper.prop_propagate(onde_1, distance_L2_screen_0*1e-3)\n",
    "A_screen = np.abs(proper.prop_get_amplitude(onde_1))**2\n",
    "L_screen = D_ratio*N_simu*proper.prop_get_sampling(onde_1)*1e3\n",
    "A_screen *= np.sum(A_object_1)/np.sum(A_screen)#*(L_object/L_screen)**2\n",
    "\n",
    "onde_3 = proper.prop_begin(window_size*1e-3, lbd, N_simu, D_ratio)\n",
    "proper.prop_multiply(onde_3, objet)\n",
    "proper.prop_define_entrance(onde_3)\n",
    "A_object_3 = np.abs(proper.prop_get_amplitude(onde_3))**2\n",
    "A_object_3 /= np.max(A_object_3)\n",
    "L_object_3 = D_ratio*N_simu*proper.prop_get_sampling(onde_3)*1e3 \n",
    "proper.prop_propagate(onde_3, distance_object_L3_0*1e-3)\n",
    "proper.prop_lens(onde_3,foc_library_rand[number_L3_0]*1e-3)\n",
    "proper.prop_propagate(onde_3, distance_L3_L3_0*1e-3)\n",
    "proper.prop_lens(onde_3, foc_library_rand[number_L3_0]*1e-3)\n",
    "proper.prop_propagate(onde_3, distance_object_L3_0*1e-3)\n",
    "A_collim = np.abs(proper.prop_get_amplitude(onde_3))**2\n",
    "L_collim = D_ratio*N_simu*proper.prop_get_sampling(onde_3)*1e3\n",
    "A_collim *= np.sum(A_object_3)/np.sum(A_collim)"
   ]
  },
  {
   "cell_type": "code",
   "execution_count": 13,
   "metadata": {},
   "outputs": [],
   "source": [
    "style = {'description_width': 'initial'}\n",
    "layout = ipywidgets.Layout(width='800px', maxheight='25px', style=style)"
   ]
  },
  {
   "cell_type": "code",
   "execution_count": 14,
   "metadata": {},
   "outputs": [],
   "source": [
    "values = [object_size_0, \n",
    "          number_L1_0, number_L2_0, number_L3_0, \n",
    "          distance_object_L1_0, distance_object_L3_0, distance_L1_L2_0, distance_L2_screen_0]"
   ]
  },
  {
   "cell_type": "code",
   "execution_count": 15,
   "metadata": {},
   "outputs": [],
   "source": [
    "def plot_objects(A_object_3, A_screen, A_collim, L_object_3, L_screen, L_collim):\n",
    "\n",
    "    fig,ax = plt.subplots(1,3,figsize=[16,8])\n",
    "    plt.subplots_adjust(bottom=0.32)\n",
    "\n",
    "    l_1 = ax[0].imshow(A_object_3,extent=(-L_object_3/2,L_object_3/2,-L_object_3/2,L_object_3/2),cmap='gray',vmin=0,vmax=1.2)\n",
    "    ax[0].set_title('Objet physique')\n",
    "    l_2 = ax[1].imshow(A_screen,extent=(-L_screen/2,L_screen/2,-L_screen/2,L_screen/2),cmap='gray',vmin=0,vmax=1.2)\n",
    "    ax[1].set_title('Lumière sur l\\'écran après L2')\n",
    "    l_3 = ax[2].imshow(A_collim+A_object_3,extent=(-L_collim/2,L_collim/2,-L_collim/2,L_collim/2),cmap='gray',vmin=0,vmax=2.4)\n",
    "    ax[2].set_title('Image autocollimation L3')\n",
    "    ax[2].set_axis_off()"
   ]
  },
  {
   "cell_type": "code",
   "execution_count": 16,
   "metadata": {},
   "outputs": [],
   "source": [
    "def update(\n",
    "    A_object_3, A_screen, A_collim, L_object_3, L_screen, L_collim,\n",
    "    s_object_size, \n",
    "    s_number_L1, s_number_L2, s_number_L3, \n",
    "    s_distance_object_L1, s_distance_object_L3, s_distance_L1_L2, s_distance_L2_screen\n",
    "           ):  \n",
    "\n",
    "    n_object_size = s_object_size*1e-3\n",
    "    n_window_size = n_object_size/D_ratio\n",
    "    \n",
    "    n_number_L1 = int(s_number_L1-1)\n",
    "    n_number_L2 = int(s_number_L2-1)\n",
    "    n_number_L3 = int(s_number_L3-1)\n",
    "    n_distance_object_L1 = s_distance_object_L1*1e-3\n",
    "    n_distance_object_L3 = s_distance_object_L3*1e-3\n",
    "    n_distance_L1_L2 = s_distance_L1_L2*1e-3\n",
    "    n_distance_L3_L3 = distance_L3_L3_0*1e-3\n",
    "    n_distance_L2_screen = s_distance_L2_screen*1e-3\n",
    "    \n",
    "    n_objet = objet_def(n_window_size,D_ratio,N_simu)\n",
    "    \n",
    "    onde_1 = proper.prop_begin(n_window_size, lbd, N_simu, D_ratio)\n",
    "    proper.prop_multiply(onde_1, n_objet)\n",
    "    proper.prop_define_entrance(onde_1)\n",
    "    A_object_1 = np.abs(proper.prop_get_amplitude(onde_1))**2\n",
    "    A_object_1 /= np.max(A_object_1)\n",
    "    #L_object_1 = D_ratio*N_simu*proper.prop_get_sampling(onde_1)*1e3\n",
    "    proper.prop_propagate(onde_1, n_distance_object_L1)\n",
    "    proper.prop_lens(onde_1,foc_library_rand[n_number_L1]*1e-3)\n",
    "    proper.prop_propagate(onde_1, n_distance_L1_L2)\n",
    "    proper.prop_lens(onde_1, foc_library_rand[n_number_L2]*1e-3)\n",
    "    proper.prop_propagate(onde_1, n_distance_L2_screen)\n",
    "    A_screen = np.abs(proper.prop_get_amplitude(onde_1))**2\n",
    "    L_screen = D_ratio*N_simu*proper.prop_get_sampling(onde_1)*1e3\n",
    "    A_screen *= np.sum(A_object_1)/np.sum(A_screen)#*(L_object/L_screen)**2\n",
    "    \n",
    "    onde_3 = proper.prop_begin(n_window_size, lbd, N_simu, D_ratio)\n",
    "    proper.prop_multiply(onde_3, n_objet)\n",
    "    proper.prop_define_entrance(onde_3)\n",
    "    A_object_3 = np.abs(proper.prop_get_amplitude(onde_3))**2\n",
    "    A_object_3 /= np.max(A_object_3)\n",
    "    L_object_3 = D_ratio*N_simu*proper.prop_get_sampling(onde_3)*1e3 \n",
    "    proper.prop_propagate(onde_3, n_distance_object_L3)\n",
    "    proper.prop_lens(onde_3,foc_library_rand[n_number_L3]*1e-3)\n",
    "    proper.prop_propagate(onde_3, n_distance_L3_L3)\n",
    "    proper.prop_lens(onde_3, foc_library_rand[n_number_L3]*1e-3)\n",
    "    proper.prop_propagate(onde_3, n_distance_object_L3)\n",
    "    A_collim = np.abs(proper.prop_get_amplitude(onde_3))**2\n",
    "    L_collim = D_ratio*N_simu*proper.prop_get_sampling(onde_3)*1e3\n",
    "    A_collim *= np.sum(A_object_3)/np.sum(A_collim)\n",
    "    \n",
    "    return A_object_3, A_screen, A_collim, L_object_3, L_screen, L_collim"
   ]
  },
  {
   "cell_type": "code",
   "execution_count": 17,
   "metadata": {},
   "outputs": [],
   "source": [
    "def function(\n",
    "    s_object_size, \n",
    "    s_number_L1, s_number_L2, s_number_L3, \n",
    "    s_distance_object_L1, s_distance_object_L3, s_distance_L1_L2, s_distance_L2_screen):\n",
    "    plot_objects(\n",
    "        *update(\n",
    "        A_object_3, A_screen, A_collim, L_object_3, L_screen, L_collim,\n",
    "        s_object_size, \n",
    "        s_number_L1, s_number_L2, s_number_L3, \n",
    "        s_distance_object_L1, s_distance_object_L3, s_distance_L1_L2, s_distance_L2_screen\n",
    "        )\n",
    "    )\n",
    "\n",
    "def reset_values(b):\n",
    "    \"\"\"Reset the interactive plots to inital values.\"\"\"\n",
    "    initvalues = [object_size_0, \n",
    "          number_L1_0, number_L2_0, number_L3_0, \n",
    "          distance_object_L1_0, distance_object_L3_0, distance_L1_L2_0, distance_L2_screen_0]\n",
    "    \n",
    "    for child, val in zip(my_plts.children, initvalues):\n",
    "        child.value = val"
   ]
  },
  {
   "cell_type": "code",
   "execution_count": 20,
   "metadata": {},
   "outputs": [],
   "source": [
    "my_plts = ipywidgets.interactive(function,\n",
    "    s_object_size = ipywidgets.FloatSlider(\n",
    "        description='Taille objet', min=1, max=10, \n",
    "        value=object_size_0, step=0.5, layout=layout, style=style\n",
    "    ),\n",
    "    s_number_L1 = ipywidgets.FloatSlider(\n",
    "        description='Numéro lentille L1', min=1, max=len(foc_library),\n",
    "        value=number_L1_0, step=delta_focus, layout=layout, style=style\n",
    "    ),\n",
    "    s_number_L2 = ipywidgets.FloatSlider(\n",
    "        description='Numéro lentille L2', min=1, max=len(foc_library),\n",
    "        value=number_L2_0, step=delta_focus, layout=layout, style=style\n",
    "    ),\n",
    "    s_number_L3 = ipywidgets.FloatSlider(\n",
    "        description='Numéro lentille L3 (autocollimation)', min=1, max=len(foc_library),\n",
    "        value=number_L3_0, step=delta_focus, layout=layout, style=style\n",
    "    ),\n",
    "    s_distance_object_L1 = ipywidgets.IntSlider(\n",
    "        description='Distance Objet L1', min=0, max=600, \n",
    "        value=distance_object_L1_0, step=1, layout=layout, style=style\n",
    "    ),\n",
    "    s_distance_object_L3 = ipywidgets.IntSlider(\n",
    "        description='Distance Objet L3 (autocollimation)', min=0, max=600,\n",
    "        value=distance_object_L3_0, step=1, layout=layout, style=style\n",
    "    ),\n",
    "    s_distance_L1_L2 = ipywidgets.IntSlider(\n",
    "        description='Distance L1 L2', min=0, max=1000,\n",
    "        value=distance_L1_L2_0, step=1, layout=layout, style=style\n",
    "    ),\n",
    "    s_distance_L2_screen = ipywidgets.IntSlider(\n",
    "        description='Distance L2 écran', min=0, max=600,\n",
    "        value=distance_L2_screen_0, step=1, layout=layout, style=style\n",
    "    )\n",
    ");\n",
    "\n",
    "reset_button = ipywidgets.Button(description = \"Reset\")\n",
    "reset_button.on_click(reset_values)"
   ]
  },
  {
   "cell_type": "code",
   "execution_count": 21,
   "metadata": {},
   "outputs": [
    {
     "data": {
      "application/vnd.jupyter.widget-view+json": {
       "model_id": "af9cb6f0a1d34a718794154b7b0c9059",
       "version_major": 2,
       "version_minor": 0
      },
      "text/plain": [
       "interactive(children=(FloatSlider(value=2.0, description='Taille objet', layout=Layout(width='800px'), max=10.…"
      ]
     },
     "metadata": {},
     "output_type": "display_data"
    },
    {
     "data": {
      "application/vnd.jupyter.widget-view+json": {
       "model_id": "ff71dd1e8ca1461e9e41f69413dedfa6",
       "version_major": 2,
       "version_minor": 0
      },
      "text/plain": [
       "Button(description='Reset', style=ButtonStyle())"
      ]
     },
     "metadata": {},
     "output_type": "display_data"
    }
   ],
   "source": [
    "display(my_plts, reset_button)"
   ]
  },
  {
   "cell_type": "code",
   "execution_count": null,
   "metadata": {},
   "outputs": [],
   "source": []
  },
  {
   "cell_type": "code",
   "execution_count": 26,
   "metadata": {},
   "outputs": [
    {
     "name": "stdout",
     "output_type": "stream",
     "text": [
      "The watermark extension is already loaded. To reload it, use:\n",
      "  %reload_ext watermark\n",
      "re               2.2.1\n",
      "logging          0.5.1.2\n",
      "matplotlib.pylab 1.14.3\n",
      "numpy            1.14.3\n",
      "matplotlib       3.1.3\n",
      "proper           3.2.1\n",
      "ipywidgets       7.2.1\n",
      "\n"
     ]
    }
   ],
   "source": [
    "%load_ext watermark\n",
    "%watermark -iv"
   ]
  },
  {
   "cell_type": "code",
   "execution_count": null,
   "metadata": {},
   "outputs": [],
   "source": []
  },
  {
   "cell_type": "code",
   "execution_count": null,
   "metadata": {},
   "outputs": [],
   "source": []
  },
  {
   "cell_type": "code",
   "execution_count": null,
   "metadata": {},
   "outputs": [],
   "source": []
  },
  {
   "cell_type": "code",
   "execution_count": null,
   "metadata": {},
   "outputs": [],
   "source": []
  },
  {
   "cell_type": "code",
   "execution_count": null,
   "metadata": {},
   "outputs": [],
   "source": []
  }
 ],
 "metadata": {
  "kernelspec": {
   "display_name": "Python 3",
   "language": "python",
   "name": "python3"
  },
  "language_info": {
   "codemirror_mode": {
    "name": "ipython",
    "version": 3
   },
   "file_extension": ".py",
   "mimetype": "text/x-python",
   "name": "python",
   "nbconvert_exporter": "python",
   "pygments_lexer": "ipython3",
   "version": "3.6.10"
  }
 },
 "nbformat": 4,
 "nbformat_minor": 2
}
